{
 "cells": [
  {
   "cell_type": "code",
   "execution_count": 1,
   "metadata": {},
   "outputs": [
    {
     "name": "stdout",
     "output_type": "stream",
     "text": [
      "autotime loaded.\n"
     ]
    }
   ],
   "source": [
    "from init import *\n",
    "import nltk\n",
    "from nltk.corpus import stopwords\n",
    "from nltk.cluster.util import cosine_distance\n",
    "import networkx as nx"
   ]
  },
  {
   "cell_type": "code",
   "execution_count": 2,
   "metadata": {},
   "outputs": [
    {
     "name": "stdout",
     "output_type": "stream",
     "text": [
      "time: 13.5 ms\n"
     ]
    }
   ],
   "source": [
    "class SummarizeText():\n",
    "    def __init__(self, filename):\n",
    "        self.filename = filename\n",
    "        \n",
    "    def read_text(self):\n",
    "        with open(self.filename, 'r') as f:\n",
    "            article = f.readlines()[0].split('.')\n",
    "        sentences = [sentence.strip().replace(\"[^a-zA-Z]\", \" \").split(\" \") for sentence in article]\n",
    "        return sentences[:-1]\n",
    "    \n",
    "    def count_words(self, sent, all_words, stopwords):\n",
    "        vector = [0] * len(all_words)\n",
    "        for w in sent:\n",
    "            if w not in stopwords:\n",
    "                vector[all_words.index(w)] += 1\n",
    "        return vector        \n",
    "    \n",
    "    def sentence_similarity(self, sent1, sent2, stopwords=None):\n",
    "        if stopwords is None:\n",
    "            stopwords = []\n",
    "        sent1 = [w.lower() for w in sent1]\n",
    "        sent2 = [w.lower() for w in sent2]\n",
    "        all_words = list(set(sent1 + sent2))\n",
    "        vector1 = self.count_words(sent1, all_words, stopwords)\n",
    "        vector2 = self.count_words(sent2, all_words, stopwords)\n",
    "        return 1 - cosine_distance(vector1, vector2)\n",
    "    \n",
    "    def similarity_matrix(self, sentences, stop_words):\n",
    "        lng = len(sentences)\n",
    "        idxs = range(lng)\n",
    "        mat = np.zeros((lng, lng))\n",
    "        for idx1 in idxs:\n",
    "            for idx2 in idxs:\n",
    "                if idx1 != idx2:\n",
    "                    mat[idx1][idx2] = self.sentence_similarity(sentences[idx1], sentences[idx2], stop_words)\n",
    "        return mat\n",
    "    \n",
    "    def run(self, top_n=5):\n",
    "        stop_words = stopwords.words('english')\n",
    "        sentences = self.read_text()\n",
    "        sim_mat = self.similarity_matrix(sentences, stop_words)\n",
    "        sim_graph = nx.from_numpy_array(sim_mat)\n",
    "        scores = nx.pagerank(sim_graph)        \n",
    "        ranked_sentence = sorted(((scores[i], s) for i, s in enumerate(sentences)), reverse=True)  \n",
    "        summary = [' '.join(ranked_sentence[i][1]) for i in range(top_n)]\n",
    "        summary = '. '.join(summary) + '.'\n",
    "        print(summary)"
   ]
  },
  {
   "cell_type": "code",
   "execution_count": 3,
   "metadata": {},
   "outputs": [
    {
     "name": "stdout",
     "output_type": "stream",
     "text": [
      "President Trump made the decision to pull the troops - about half the number the United States has in Afghanistan now - at the same time he decided to pull American forces out of Syria, one official said. WASHINGTON - The Trump administration has ordered the military to start withdrawing roughly 7,000 troops from Afghanistan in the coming months, two defense officials said Thursday, an abrupt shift in the 17-year-old war there and a decision that stunned Afghan officials, who said they had not been briefed on the plans. Though Pentagon officials have said the influx of forces - coupled with a more aggressive air campaign - was helping the war effort, Afghan forces continued to take nearly unsustainable levels of casualties and lose ground to the Taliban. Mattis, he begrudgingly pledged an additional 4,000 troops to the Afghan campaign to try to hasten an end to the conflict.\n",
      "time: 204 ms\n"
     ]
    }
   ],
   "source": [
    "summ = SummarizeText('trump.txt')\n",
    "summ.run(top_n=4)"
   ]
  }
 ],
 "metadata": {
  "kernelspec": {
   "display_name": "Python 3",
   "language": "python",
   "name": "python3"
  },
  "language_info": {
   "codemirror_mode": {
    "name": "ipython",
    "version": 3
   },
   "file_extension": ".py",
   "mimetype": "text/x-python",
   "name": "python",
   "nbconvert_exporter": "python",
   "pygments_lexer": "ipython3",
   "version": "3.7.7"
  }
 },
 "nbformat": 4,
 "nbformat_minor": 4
}
