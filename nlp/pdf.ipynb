{
 "cells": [
  {
   "cell_type": "code",
   "execution_count": 3,
   "metadata": {},
   "outputs": [
    {
     "name": "stdout",
     "output_type": "stream",
     "text": [
      "time: 883 µs\n"
     ]
    }
   ],
   "source": [
    "from init import *\n",
    "from pdfminer.high_level import extract_text"
   ]
  },
  {
   "cell_type": "code",
   "execution_count": 41,
   "metadata": {},
   "outputs": [
    {
     "data": {
      "text/plain": [
       "'https://doi.org/10.1007/s00382-019-04721-4'"
      ]
     },
     "execution_count": 41,
     "metadata": {},
     "output_type": "execute_result"
    },
    {
     "name": "stdout",
     "output_type": "stream",
     "text": [
      "time: 343 ms\n"
     ]
    }
   ],
   "source": [
    "text = extract_text('Desktop/Banerjee_etal_cdyn2019.pdf', page_numbers=[0])\n",
    "text = ' '.join([t for t in text.split('\\n') if len(t)>0])\n",
    "doi = [line for line in text.split(' ') if 'https' in line][0]\n",
    "# abstract = text[text.index('Abstract')+8:text.index('Keywords')].strip().split('. ')\n",
    "# abstract = [' '.join([word for word in line.split(' ') if len(word)>=0]) for line in abstract]\n",
    "doi"
   ]
  }
 ],
 "metadata": {
  "kernelspec": {
   "display_name": "Python 3",
   "language": "python",
   "name": "python3"
  },
  "language_info": {
   "codemirror_mode": {
    "name": "ipython",
    "version": 3
   },
   "file_extension": ".py",
   "mimetype": "text/x-python",
   "name": "python",
   "nbconvert_exporter": "python",
   "pygments_lexer": "ipython3",
   "version": "3.7.7"
  }
 },
 "nbformat": 4,
 "nbformat_minor": 4
}
