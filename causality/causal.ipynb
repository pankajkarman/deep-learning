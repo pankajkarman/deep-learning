{
 "cells": [
  {
   "cell_type": "code",
   "execution_count": 1,
   "metadata": {},
   "outputs": [],
   "source": [
    "%load_ext autotime\n",
    "import warnings; warnings.filterwarnings('ignore')"
   ]
  },
  {
   "cell_type": "code",
   "execution_count": 2,
   "metadata": {},
   "outputs": [
    {
     "name": "stdout",
     "output_type": "stream",
     "text": [
      "time: 774 ms\n"
     ]
    }
   ],
   "source": [
    "import numpy as np\n",
    "import pandas as pd\n",
    "from causal import TCDF\n",
    "import matplotlib.pyplot as plt"
   ]
  },
  {
   "cell_type": "code",
   "execution_count": 3,
   "metadata": {},
   "outputs": [
    {
     "name": "stdout",
     "output_type": "stream",
     "text": [
      "time: 4.02 ms\n"
     ]
    }
   ],
   "source": [
    "def get_proxy(freq = 'M', station = 'neum', norm=True, level = 200,\\\n",
    "              proxies = ['solar', 'qbo30', 'qbo50', 'mei', 'aao', 'hf', 'pv', 'aod'] ):\n",
    "    prx = pd.read_csv('/home/pankaj/phd/tropo/antarctic/data/proxy/proxy2.index', sep='\\s+', \n",
    "                 parse_dates = ['Date']).set_index('Date').resample(freq).mean()\n",
    "    pv  = pd.read_csv('/home/pankaj/phd/tropo/antarctic/data/gph/' + str(level) + '.pv.csv',\n",
    "                 sep = '\\t', parse_dates=['time']).set_index('time')\n",
    "    gph = pd.read_csv('/home/pankaj/phd/tropo/antarctic/data/gph/' + str(level) + '.gph.csv',\n",
    "                 sep = '\\t', parse_dates=['time']).set_index('time')\n",
    "    hf  = pd.read_pickle('/home/pankaj/phd/tropo/antarctic/data/hfdata/ecmwf/ant.hf.' + str(level) +'.pkl')\n",
    "    aodfile = '/home/pankaj/phd/tropo/antarctic/data/proxy/ant.aod.7918.pkl'\n",
    "    prx['aod'] = pd.read_pickle(aodfile).resample(freq).mean()\n",
    "    if station == 'arht':\n",
    "        station = 'mcmu'\n",
    "    prx['pv']  = pv[station].resample(freq).mean()\n",
    "    prx['gph'] = gph[station].resample(freq).mean()\n",
    "    prx['hf']  = hf.resample(freq).mean()\n",
    "    if norm:\n",
    "        prx = (prx-prx.mean()) / (prx.max()-prx.min())\n",
    "    return prx[proxies] \n",
    "\n",
    "def get_data(station='neum', freq='MS', lev='tco', \\\n",
    "             ozfile='/home/pankaj/phd/tropo/antarctic/code/data/trop.col.pkl',\\\n",
    "             start = '1991-01-01', end = '2015-01-01', tph=1):\n",
    "    if lev in ['tco', 'surface']:\n",
    "        oz = pd.read_pickle(ozfile).resample(freq).mean()[station].dropna()\n",
    "    else:\n",
    "        oz = pd.read_pickle(ozfile).resample(freq).mean()[lev].dropna()\n",
    "        oz.name = station + str(lev)\n",
    "    \n",
    "    if station=='neum':\n",
    "        hgt = pd.read_csv('/home/pankaj/phd/tropo/antarctic/data/tropo_height/neum1', sep = '\\t', \\\n",
    "                      parse_dates = True, index_col = 'Date').resample(freq).mean()\n",
    "    elif station=='arht':\n",
    "        hgt = pd.read_csv('/home/pankaj/phd/tropo/antarctic/data/tropo_height/mcmu', sep = '\\t', \\\n",
    "                      parse_dates = True, index_col = 'Date').resample(freq).mean()\n",
    "    else:\n",
    "        hgt = pd.read_csv('/home/pankaj/phd/tropo/antarctic/data/tropo_height/' + station, sep = '\\t', \\\n",
    "                      parse_dates = True, index_col = 'Date').resample(freq).mean()    \n",
    "    hgt.columns = ['TPH']   \n",
    "    \n",
    "    reg = get_proxy(freq=freq, station=station, norm=False)\n",
    "    if tph==1:\n",
    "        data = pd.concat([oz, hgt, reg], axis=1)[start:end].dropna()\n",
    "    elif tph==0:\n",
    "        data = pd.concat([oz, reg], axis=1)[start:end].dropna() \n",
    "    else:\n",
    "        data = pd.concat([hgt, reg], axis=1)[start:end].dropna()         \n",
    "        \n",
    "    data = (data-data.mean()) / (data.max()-data.min())\n",
    "    #data = (data - data.shift(1)).dropna()\n",
    "    return data"
   ]
  },
  {
   "cell_type": "code",
   "execution_count": 4,
   "metadata": {},
   "outputs": [
    {
     "name": "stdout",
     "output_type": "stream",
     "text": [
      "time: 295 ms\n"
     ]
    }
   ],
   "source": [
    "tmax  = 2\n",
    "ofile = '/home/pankaj/phd/tropo/antarctic/code/data/surf.ozo.avg.pkl'\n",
    "data  = get_data(station='neum', lev='surface', tph=0, ozfile=ofile)"
   ]
  },
  {
   "cell_type": "code",
   "execution_count": 5,
   "metadata": {},
   "outputs": [
    {
     "name": "stdout",
     "output_type": "stream",
     "text": [
      "\n",
      " Target under consideration:  neum\n",
      "Epoch:  1 [0%] \tLoss: 0.082100\n",
      "Epoch: 500 [50%] \tLoss: 0.005245\n",
      "Epoch: 1000 [100%] \tLoss: 0.004697\n",
      "Potential Causes:  ['neum', 'pv']\n",
      "Validated Causes:  ['neum', 'pv']\n",
      "Delays: {('neum', 'neum'): 7, ('neum', 'pv'): 4}\n",
      "\n",
      " Target under consideration:  solar\n",
      "Epoch:  1 [0%] \tLoss: 0.057931\n",
      "Epoch: 500 [50%] \tLoss: 0.005054\n",
      "Epoch: 1000 [100%] \tLoss: 0.004766\n",
      "Potential Causes:  ['solar', 'neum']\n",
      "Validated Causes:  ['solar']\n",
      "Delays: {('solar', 'solar'): 1}\n",
      "\n",
      " Target under consideration:  qbo30\n",
      "Epoch:  1 [0%] \tLoss: 0.086032\n",
      "Epoch: 500 [50%] \tLoss: 0.002260\n",
      "Epoch: 1000 [100%] \tLoss: 0.001641\n",
      "Potential Causes:  ['qbo30', 'qbo50']\n",
      "Validated Causes:  ['qbo30', 'qbo50']\n",
      "Delays: {('qbo30', 'qbo30'): 1, ('qbo30', 'qbo50'): 5}\n",
      "\n",
      " Target under consideration:  qbo50\n",
      "Epoch:  1 [0%] \tLoss: 0.071426\n",
      "Epoch: 500 [50%] \tLoss: 0.006805\n",
      "Epoch: 1000 [100%] \tLoss: 0.006615\n",
      "Potential Causes:  ['qbo30']\n",
      "Validated Causes:  ['qbo30']\n",
      "Delays: {('qbo50', 'qbo30'): 7}\n",
      "\n",
      " Target under consideration:  mei\n",
      "Epoch:  1 [0%] \tLoss: 0.041558\n",
      "Epoch: 500 [50%] \tLoss: 0.003103\n",
      "Epoch: 1000 [100%] \tLoss: 0.002911\n",
      "Potential Causes:  ['neum', 'mei']\n",
      "Validated Causes:  ['mei']\n",
      "Delays: {('mei', 'mei'): 1}\n",
      "\n",
      " Target under consideration:  aao\n",
      "Epoch:  1 [0%] \tLoss: 0.036931\n",
      "Epoch: 500 [50%] \tLoss: 0.023427\n",
      "Epoch: 1000 [100%] \tLoss: 0.020430\n",
      "Potential Causes:  ['aod', 'neum', 'mei', 'pv']\n",
      "Validated Causes:  ['aod', 'neum', 'mei', 'pv']\n",
      "Delays: {('aao', 'aod'): 6, ('aao', 'neum'): 4, ('aao', 'mei'): 4, ('aao', 'pv'): 3}\n",
      "\n",
      " Target under consideration:  hf\n",
      "Epoch:  1 [0%] \tLoss: 0.024066\n",
      "Epoch: 500 [50%] \tLoss: 0.009584\n",
      "Epoch: 1000 [100%] \tLoss: 0.008637\n",
      "Potential Causes:  ['neum', 'mei', 'pv']\n",
      "Validated Causes:  ['neum']\n",
      "Delays: {('hf', 'neum'): 6}\n",
      "\n",
      " Target under consideration:  pv\n",
      "Epoch:  1 [0%] \tLoss: 0.069037\n",
      "Epoch: 500 [50%] \tLoss: 0.008274\n",
      "Epoch: 1000 [100%] \tLoss: 0.007503\n",
      "Potential Causes:  ['neum', 'pv']\n",
      "Validated Causes:  ['neum', 'pv']\n",
      "Delays: {('pv', 'neum'): 2, ('pv', 'pv'): 5}\n",
      "\n",
      " Target under consideration:  aod\n",
      "Epoch:  1 [0%] \tLoss: 0.021599\n",
      "Epoch: 500 [50%] \tLoss: 0.000661\n",
      "Epoch: 1000 [100%] \tLoss: 0.000884\n",
      "Potential Causes:  ['aod']\n",
      "Validated Causes:  ['aod']\n",
      "Delays: {('aod', 'aod'): 1}\n",
      "time: 1min 43s\n"
     ]
    }
   ],
   "source": [
    "discover = TCDF(data, significance=0.9)\n",
    "causes, delays = discover.run(kernel_size=tmax, dilation_c=tmax, layers=3, epochs=1000)"
   ]
  },
  {
   "cell_type": "code",
   "execution_count": 6,
   "metadata": {},
   "outputs": [
    {
     "data": {
      "image/png": "[encoded data removed]",
      "text/plain": [
       "<Figure size 504x504 with 1 Axes>"
      ]
     },
     "metadata": {},
     "output_type": "display_data"
    },
    {
     "name": "stdout",
     "output_type": "stream",
     "text": [
      "time: 232 ms\n"
     ]
    }
   ],
   "source": [
    "fig, ax = plt.subplots(1, 1, figsize=(7, 7))\n",
    "discover.causal_graph(ax=ax)\n",
    "plt.show()"
   ]
  }
 ],
 "metadata": {
  "kernelspec": {
   "display_name": "Python 3",
   "language": "python",
   "name": "python3"
  },
  "language_info": {
   "codemirror_mode": {
    "name": "ipython",
    "version": 3
   },
   "file_extension": ".py",
   "mimetype": "text/x-python",
   "name": "python",
   "nbconvert_exporter": "python",
   "pygments_lexer": "ipython3",
   "version": "3.7.7"
  }
 },
 "nbformat": 4,
 "nbformat_minor": 4
}
